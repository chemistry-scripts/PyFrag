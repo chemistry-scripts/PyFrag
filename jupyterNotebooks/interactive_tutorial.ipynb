{
 "cells": [
  {
   "cell_type": "markdown",
   "metadata": {},
   "source": [
    "#  Basic usage tutorial \n",
    "\n",
    "## Installation\n",
    "\n",
    "Please refer to [installation](https://pyfragdocument.readthedocs.io/en/latest/install.html)   "
   ]
  },
  {
   "cell_type": "markdown",
   "metadata": {},
   "source": [
    "## Job Prepration"
   ]
  },
  {
   "cell_type": "code",
   "execution_count": null,
   "metadata": {},
   "outputs": [],
   "source": [
    "!source $PYFRAGHOME/.pyfragrc"
   ]
  },
  {
   "cell_type": "markdown",
   "metadata": {},
   "source": [
    "Before this command, the PYFRAGHOME path has to be set correctly!"
   ]
  },
  {
   "cell_type": "code",
   "execution_count": null,
   "metadata": {},
   "outputs": [],
   "source": [
    "%mkdir pyfrag"
   ]
  },
  {
   "cell_type": "code",
   "execution_count": null,
   "metadata": {},
   "outputs": [],
   "source": [
    "%cp $PYFRAGHOME/example/job.in ./pyfrag"
   ]
  },
  {
   "cell_type": "code",
   "execution_count": null,
   "metadata": {},
   "outputs": [],
   "source": [
    "%cd pyfrag"
   ]
  },
  {
   "cell_type": "code",
   "execution_count": null,
   "metadata": {},
   "outputs": [],
   "source": [
    "%ls"
   ]
  },
  {
   "cell_type": "markdown",
   "metadata": {},
   "source": [
    "**Noted** For each job a new directory and a new job name should be given. Don't put more than one jobs in one directory, othervise may cause clash."
   ]
  },
  {
   "cell_type": "markdown",
   "metadata": {},
   "source": [
    "Something like this will shown if previous steps is correct. Now we are ready to start PyFrag.\n",
    "```bash\n",
    "Xiaobos-MacBook-Air:pyfrag xiaobo$ ls\n",
    "job.in\n",
    "Xiaobos-MacBook-Air:pyfrag xiaobo$ \n",
    "```"
   ]
  },
  {
   "cell_type": "markdown",
   "metadata": {},
   "source": [
    "## Input Explanation"
   ]
  },
  {
   "cell_type": "code",
   "execution_count": null,
   "metadata": {},
   "outputs": [],
   "source": [
    "%cat pyfrag"
   ]
  },
  {
   "cell_type": "markdown",
   "metadata": {},
   "source": [
    "***Explanation of input options!***"
   ]
  },
  {
   "cell_type": "markdown",
   "metadata": {},
   "source": [
    "```python\n",
    "\n",
    "''''\n",
    "JOBSUB section is for the information passed to the remote host machine \n",
    "where the heavy computatonal job is done! It is written in the fashion of Slurm.\n",
    "''''\n",
    "JOBSUB\n",
    "\n",
    "#!/bin/bash\n",
    "#SBATCH -J frag_1\n",
    "#SBATCH -N 1\n",
    "#SBATCH -t 50:00\n",
    "#SBATCH --ntasks-per-node=24\n",
    "#SBATCH --partition=short\n",
    "#SBATCH --output=%job.stdout\n",
    "#SBATCH --error=%job.stdout\n",
    "export NSCM=24\n",
    "\n",
    "JOBSUB END\n",
    "\n",
    "''''\n",
    "Provide the parameters for a DFT calculation using ADF software.\n",
    "''''\n",
    "ADF\n",
    "\n",
    "basis\n",
    "type TZ2P\n",
    "core Small\n",
    "end\n",
    "\n",
    "xc\n",
    "gga OPBE\n",
    "end\n",
    "\n",
    "relativistic SCALAR ZORA\n",
    "\n",
    "scf\n",
    "iterations 299\n",
    "converge 0.00001\n",
    "mixing 0.20\n",
    "end\n",
    "\n",
    "numericalquality verygood\n",
    "\n",
    "charge 0 0\n",
    "symmetry auto\n",
    "\n",
    "\n",
    "ADF END\n",
    "\n",
    "''''\n",
    "Provide the parameters for an activation strain analysis.\n",
    "''''\n",
    "\n",
    "PyFrag\n",
    "\n",
    "fragment  2\n",
    "fragment  1 3 4 5 6\n",
    "strain    0\n",
    "strain   -554.09\n",
    "bondlength 1 6  1.09\n",
    "\n",
    "PyFrag END\n",
    "\n",
    "\n",
    "''''\n",
    "Guessed geometry coordinate for reactent1, reactent2, reactent complex,\n",
    "transition state and product.\n",
    "''''\n",
    "\n",
    "Geometrycoor\n",
    "\n",
    "R1: Fe-II(CO)4 + CH4\n",
    "Pd       0.00000000       0.00000000       0.32205546\n",
    "\n",
    "\n",
    "\n",
    "R2: CH4\n",
    "C       0.00000000       0.00000000      -1.93543634\n",
    "H      -0.96181082       0.00000000      -1.33610429\n",
    "H       0.00000000      -0.90063254      -2.55201285\n",
    "H       0.00000000       0.90063254      -2.55201285\n",
    "H       0.96181082       0.00000000      -1.33610429\n",
    "\n",
    "\n",
    "\n",
    "\n",
    "RC: Fe-II(CO)4 + CH4\n",
    "C       0.00000000       0.00000000      -1.93543615\n",
    "Pd       0.00000000       0.00000000       0.322055\n",
    "H      -0.96181082       0.00000000      -1.33610429\n",
    "H       0.00000000      -0.90063254      -2.55201285\n",
    "H       0.00000000       0.90063254      -2.55201285\n",
    "H       0.96181082       0.00000000      -1.33610429\n",
    "\n",
    "\n",
    "\n",
    "TS: Fe-II(CO)4 + CH4\n",
    "C      -1.74196777      -2.22087997       0.00000000\n",
    "Pd     -2.13750904      -0.23784341       0.00000000\n",
    "H      -2.80956968      -2.49954731       0.00000000\n",
    "H      -1.26528821      -2.62993236       0.8956767\n",
    "H      -1.26528821      -2.62993236      -0.895676\n",
    "H      -0.75509932      -0.88569836       0.00000000\n",
    "\n",
    "\n",
    "\n",
    "\n",
    "P: Fe-II(CO)4 + CH4\n",
    "C      -2.10134690      -2.41901732       0.1862099\n",
    "Pd      -2.73145901      -0.57025833       0.419766\n",
    "H      -3.88639130      -1.04648079      -0.43099501\n",
    "H      -2.78392696      -3.12497645       0.66994616\n",
    "H      -1.97386865      -2.66955518      -0.87144525\n",
    "H      -1.12556673      -2.41201402       0.698583\n",
    "\n",
    "\n",
    "\n",
    "Geometrycoor END\n",
    "```"
   ]
  },
  {
   "cell_type": "markdown",
   "metadata": {},
   "source": [
    "## Job start\n",
    "PyFrag has several commands, which are explained by running `pyfrag -h` "
   ]
  },
  {
   "cell_type": "code",
   "execution_count": null,
   "metadata": {},
   "outputs": [],
   "source": [
    "!pyfrag -h"
   ]
  },
  {
   "cell_type": "markdown",
   "metadata": {},
   "source": [
    "## Job Running"
   ]
  },
  {
   "cell_type": "code",
   "execution_count": null,
   "metadata": {},
   "outputs": [],
   "source": [
    "%cd pyfrag"
   ]
  },
  {
   "cell_type": "code",
   "execution_count": null,
   "metadata": {},
   "outputs": [],
   "source": [
    "!ls "
   ]
  },
  {
   "cell_type": "markdown",
   "metadata": {},
   "source": [
    "**Note** you should in the pyfrag directory before you start the job."
   ]
  },
  {
   "cell_type": "code",
   "execution_count": null,
   "metadata": {},
   "outputs": [],
   "source": [
    "!pyfrag pyfrag"
   ]
  },
  {
   "cell_type": "markdown",
   "metadata": {},
   "source": [
    "**If you don't set -s flag, above information will be printed. After a while (depanding on the time interval in the `RESULTCHECK`  configuration), a webpage will jump up with the latest information of your job running.**"
   ]
  },
  {
   "cell_type": "code",
   "execution_count": null,
   "metadata": {},
   "outputs": [],
   "source": [
    "from IPython.display import Image\n",
    "Image(filename=\"../files/jobinfo.png\")"
   ]
  },
  {
   "cell_type": "markdown",
   "metadata": {},
   "source": [
    "## Job Variation"
   ]
  },
  {
   "cell_type": "markdown",
   "metadata": {},
   "source": [
    "If you find the trend (as shown by the converge standerd and video) is wrong, you just need change the input file, like change functional from OPBE to BLYP:"
   ]
  },
  {
   "cell_type": "markdown",
   "metadata": {},
   "source": [
    "```python\n",
    "xc\n",
    "# gga OPBE\n",
    "gga BLYP\n",
    "end\n",
    "```"
   ]
  },
  {
   "cell_type": "markdown",
   "metadata": {},
   "source": [
    "After it is saved, the program will find the difference and pop up window ask you if you want to resubmit you new job"
   ]
  },
  {
   "cell_type": "code",
   "execution_count": null,
   "metadata": {},
   "outputs": [],
   "source": [
    "from IPython.display import Image\n",
    "Image(filename=\"../files/button.png\")"
   ]
  },
  {
   "cell_type": "markdown",
   "metadata": {},
   "source": [
    "If you select resubmit, old job will be stop and new job will started automatically!"
   ]
  },
  {
   "cell_type": "markdown",
   "metadata": {},
   "source": [
    "## Job End\n",
    "\n",
    "Job can also be stoped by hand, as expained before."
   ]
  },
  {
   "cell_type": "markdown",
   "metadata": {},
   "source": [
    "```bash\n",
    "Xiaobos-MacBook-Air:pyfrag xiaobo$  pyfrag -x end job.in\n",
    "```"
   ]
  },
  {
   "cell_type": "markdown",
   "metadata": {},
   "source": [
    "## Job Restart\n",
    "If your job is stoped, you can also restart it."
   ]
  },
  {
   "cell_type": "markdown",
   "metadata": {},
   "source": [
    "```bash\n",
    "Xiaobos-MacBook-Air:pyfrag xiaobo$ pyfrag -x restart job.in \n",
    "```"
   ]
  },
  {
   "cell_type": "markdown",
   "metadata": {},
   "source": [
    "## Job Check\n",
    "If you don't want to receive the updated information, you can just shut down the terminal by `control + w` or `control + d`. After a period of time, you can check the latest news by:"
   ]
  },
  {
   "cell_type": "markdown",
   "metadata": {},
   "source": [
    "```bash\n",
    "Xiaobos-MacBook-Air:pyfrag $  pyfrag -x check job.in\n",
    "```"
   ]
  },
  {
   "cell_type": "markdown",
   "metadata": {},
   "source": [
    "## Job Result\n",
    "\n",
    "Once job is finished, you can check the job result by running`pyfrag -x summary job` in job directory\n",
    "or `!bokeh serve --show stocks` in result directory where stocks is located. A website will pop up which \n",
    "summarize all data in a vivid way."
   ]
  },
  {
   "cell_type": "code",
   "execution_count": null,
   "metadata": {},
   "outputs": [],
   "source": [
    "!bokeh serve --show ../stocks"
   ]
  },
  {
   "cell_type": "markdown",
   "metadata": {},
   "source": [
    "**Note that sometimes you need to use this command:**\n",
    "```bash\n",
    "kill $(ps aux | grep '[b]okeh' | awk '{print $2}') 2>/dev/null\n",
    "```\n",
    "**to stop bokeh server running!**"
   ]
  },
  {
   "cell_type": "code",
   "execution_count": null,
   "metadata": {},
   "outputs": [],
   "source": [
    "%ls"
   ]
  },
  {
   "cell_type": "code",
   "execution_count": null,
   "metadata": {},
   "outputs": [],
   "source": [
    "from IPython.display import Image\n",
    "Image(filename=\"files/jobresult.png\")"
   ]
  },
  {
   "cell_type": "markdown",
   "metadata": {},
   "source": [
    "## Multiple Jobs\n",
    "\n",
    "Other jobs can also be run in the meantime in another teminal. It should be noted different jobs shoud be given different job names in a different job directory to keep everthing clean and avoid clash."
   ]
  },
  {
   "cell_type": "markdown",
   "metadata": {},
   "source": [
    "For further explanation of job result, please read the following chapter [Further Reading](https://pyfragdocument.readthedocs.io/en/latest/Further_reading.html)\n"
   ]
  }
 ],
 "metadata": {
  "language_info": {
   "name": "python",
   "pygments_lexer": "ipython3"
  }
 },
 "nbformat": 4,
 "nbformat_minor": 1
}
